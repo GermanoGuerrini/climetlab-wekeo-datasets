{
 "cells": [
  {
   "cell_type": "code",
   "execution_count": null,
   "id": "pleasant-howard",
   "metadata": {},
   "outputs": [],
   "source": [
    "#!pip install climetlab\n",
    "#!pip install climetlab_wekeo_source\n",
    "#!pip install climetlab_wekeo_clms"
   ]
  },
  {
   "cell_type": "code",
   "execution_count": null,
   "id": "arabic-sally",
   "metadata": {},
   "outputs": [],
   "source": [
    "import climetlab as cml\n",
    "from dask.distributed import Client\n",
    "\n",
    "# Instantiate a default Dask distributed client to handle data\n",
    "client = Client()"
   ]
  },
  {
   "cell_type": "code",
   "execution_count": null,
   "id": "4b682f95",
   "metadata": {},
   "outputs": [],
   "source": [
    "client"
   ]
  },
  {
   "cell_type": "code",
   "execution_count": null,
   "id": "affiliated-binding",
   "metadata": {},
   "outputs": [],
   "source": [
    "cmlds = cml.load_dataset(\n",
    "    \"wekeo-clms-cgls-hourly-lst-global-v2\",\n",
    "    start=\"2021-01-18\",\n",
    "    end=\"2021-01-19\",\n",
    ")"
   ]
  },
  {
   "cell_type": "code",
   "execution_count": null,
   "id": "boring-bryan",
   "metadata": {},
   "outputs": [],
   "source": [
    "ds = cmlds.to_xarray()\n",
    "ds.LST.plot(x=\"lon\", y=\"lat\")"
   ]
  },
  {
   "cell_type": "code",
   "execution_count": null,
   "id": "b6dffc46",
   "metadata": {},
   "outputs": [],
   "source": [
    "client.shutdown()"
   ]
  }
 ],
 "metadata": {
  "kernelspec": {
   "display_name": "Python 3",
   "language": "python",
   "name": "python3"
  },
  "language_info": {
   "codemirror_mode": {
    "name": "ipython",
    "version": 3
   },
   "file_extension": ".py",
   "mimetype": "text/x-python",
   "name": "python",
   "nbconvert_exporter": "python",
   "pygments_lexer": "ipython3",
   "version": "3.10.11"
  }
 },
 "nbformat": 4,
 "nbformat_minor": 5
}
