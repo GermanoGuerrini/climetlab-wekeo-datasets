{
 "cells": [
  {
   "cell_type": "code",
   "execution_count": null,
   "id": "pleasant-howard",
   "metadata": {},
   "outputs": [],
   "source": [
    "#!pip install climetlab\n",
    "#!pip install climetlab_wekeo_source\n",
    "#!pip install climetlab_wekeo_datasets.clms"
   ]
  },
  {
   "cell_type": "code",
   "execution_count": 1,
   "id": "arabic-sally",
   "metadata": {},
   "outputs": [
    {
     "name": "stderr",
     "output_type": "stream",
     "text": [
      "/home/germano/.virtualenvs/climetlab2/lib/python3.10/site-packages/tqdm/auto.py:21: TqdmWarning: IProgress not found. Please update jupyter and ipywidgets. See https://ipywidgets.readthedocs.io/en/stable/user_install.html\n",
      "  from .autonotebook import tqdm as notebook_tqdm\n"
     ]
    }
   ],
   "source": [
    "import climetlab as cml\n",
    "from dask.distributed import Client\n",
    "\n",
    "# Instantiate a default Dask distributed client to handle data\n",
    "client = Client()"
   ]
  },
  {
   "cell_type": "code",
   "execution_count": null,
   "id": "4b682f95",
   "metadata": {},
   "outputs": [],
   "source": [
    "client"
   ]
  },
  {
   "cell_type": "code",
   "execution_count": 7,
   "id": "affiliated-binding",
   "metadata": {},
   "outputs": [
    {
     "name": "stderr",
     "output_type": "stream",
     "text": [
      "                                                    \r"
     ]
    }
   ],
   "source": [
    "cmlds = cml.load_dataset(\n",
    "    \"wekeo-clms-clms-global-albh-1km-v1-10daily-netcdf\",\n",
    "    start=\"2019-12-26\",\n",
    "    end=\"2019-12-26\",\n",
    ")"
   ]
  },
  {
   "cell_type": "code",
   "execution_count": null,
   "id": "086ba2f0",
   "metadata": {},
   "outputs": [],
   "source": [
    "cmlds = cml.load_dataset(\n",
    "    \"wekeo-mercator-arctic-analysis-forecast-wav\",\n",
    "    bbox=[-6.740004404878688, 76.10086084435616, -12.941271118403831, 78.3241242042883],\n",
    "    min_date='2024-01-01T00:00:00.000Z',\n",
    "    max_date='2024-01-01T06:00:00.000Z',\n",
    "    variables=[\"Current\"],\n",
    "    limit=2\n",
    ")"
   ]
  },
  {
   "cell_type": "code",
   "execution_count": null,
   "id": "63df9364",
   "metadata": {},
   "outputs": [],
   "source": [
    "cmlds.source"
   ]
  },
  {
   "cell_type": "code",
   "execution_count": null,
   "id": "boring-bryan",
   "metadata": {},
   "outputs": [],
   "source": [
    "ds = cmlds.to_xarray()\n",
    "ds"
   ]
  },
  {
   "cell_type": "code",
   "execution_count": null,
   "id": "ebacc805",
   "metadata": {},
   "outputs": [],
   "source": [
    "ds.Current.isel(time=0).plot(x=\"rlon\", y=\"rlat\", col_wrap=3)\n",
    "#ds.LST.plot(x=\"lon\", y=\"lat\")"
   ]
  },
  {
   "cell_type": "code",
   "execution_count": null,
   "id": "b6dffc46",
   "metadata": {},
   "outputs": [],
   "source": [
    "client.shutdown()"
   ]
  }
 ],
 "metadata": {
  "kernelspec": {
   "display_name": "Python 3",
   "language": "python",
   "name": "python3"
  },
  "language_info": {
   "codemirror_mode": {
    "name": "ipython",
    "version": 3
   },
   "file_extension": ".py",
   "mimetype": "text/x-python",
   "name": "python",
   "nbconvert_exporter": "python",
   "pygments_lexer": "ipython3",
   "version": "3.10.11"
  }
 },
 "nbformat": 4,
 "nbformat_minor": 5
}
